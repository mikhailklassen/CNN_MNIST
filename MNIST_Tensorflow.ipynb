{
  "nbformat": 4,
  "nbformat_minor": 0,
  "metadata": {
    "colab": {
      "name": "MNIST - Tensorflow.ipynb",
      "provenance": [],
      "authorship_tag": "ABX9TyNlbOzEVC3T1IZn7gyg2qaE",
      "include_colab_link": true
    },
    "kernelspec": {
      "name": "python3",
      "display_name": "Python 3"
    },
    "language_info": {
      "name": "python"
    },
    "accelerator": "GPU"
  },
  "cells": [
    {
      "cell_type": "markdown",
      "metadata": {
        "id": "view-in-github",
        "colab_type": "text"
      },
      "source": [
        "<a href=\"https://colab.research.google.com/github/mikhailklassen/CNN_MNIST/blob/main/MNIST_Tensorflow.ipynb\" target=\"_parent\"><img src=\"https://colab.research.google.com/assets/colab-badge.svg\" alt=\"Open In Colab\"/></a>"
      ]
    },
    {
      "cell_type": "code",
      "execution_count": 1,
      "metadata": {
        "colab": {
          "base_uri": "https://localhost:8080/"
        },
        "id": "U0bxC_CUcGzk",
        "outputId": "dab26e53-99aa-46a6-ed2c-a766cf2bc94f"
      },
      "outputs": [
        {
          "output_type": "stream",
          "name": "stdout",
          "text": [
            "[PhysicalDevice(name='/physical_device:CPU:0', device_type='CPU'), PhysicalDevice(name='/physical_device:GPU:0', device_type='GPU')]\n"
          ]
        }
      ],
      "source": [
        "import tensorflow as tf\n",
        "import tensorflow_datasets as tfds\n",
        "import numpy as np\n",
        "\n",
        "# In Google Colab, can change runtime to GPU if desired\n",
        "device = tf.config.get_visible_devices()\n",
        "print(device)\n",
        "\n",
        "# If a TensorFlow operation has both CPU and GPU implementations, by default, \n",
        "# the GPU device is prioritized when the operation is assigned."
      ]
    },
    {
      "cell_type": "code",
      "source": [
        "mnist = tf.keras.datasets.mnist\n",
        "(x_train, y_train), (x_test, y_test) = mnist.load_data()"
      ],
      "metadata": {
        "id": "GgqQ3NtpdRzy"
      },
      "execution_count": 2,
      "outputs": []
    },
    {
      "cell_type": "code",
      "source": [
        "input_shape = (28, 28, 1)\n",
        "num_classes = 10\n",
        "\n",
        "# The scaled mean and standard deviation of the MNIST dataset (precalculated)\n",
        "data_mean = 0.1307\n",
        "data_std = 0.3081\n",
        "\n",
        "# Reshape the input data\n",
        "x_train = x_train.reshape(x_train.shape[0], \n",
        "                          x_train.shape[1], \n",
        "                          x_train.shape[2], 1)\n",
        "\n",
        "x_test = x_test.reshape(x_test.shape[0], \n",
        "                        x_test.shape[1], \n",
        "                        x_test.shape[2], \n",
        "                        1)\n",
        "\n",
        "# Normalize the data\n",
        "x_train = (x_train/255.0 - data_mean) / data_std\n",
        "x_test = (x_test/255.0 - data_mean) / data_std\n",
        "\n",
        "# Convert labels to one-hot vectors\n",
        "y_train = tf.one_hot(y_train.astype(np.int32), depth=num_classes)\n",
        "y_test = tf.one_hot(y_test.astype(np.int32), depth=num_classes)"
      ],
      "metadata": {
        "id": "ki3C27nDdb53"
      },
      "execution_count": 3,
      "outputs": []
    },
    {
      "cell_type": "code",
      "source": [
        "# Define the architecture of the neural network\n",
        "model = tf.keras.models.Sequential([\n",
        "    tf.keras.layers.Conv2D(32, (3,3), strides=(1,1),\n",
        "                                      padding='valid', \n",
        "                                      activation='relu',\n",
        "                                      input_shape=input_shape),\n",
        "    tf.keras.layers.Conv2D(64, (3,3), strides=(1,1),\n",
        "                                      padding='valid',\n",
        "                                      activation='relu'),\n",
        "    tf.keras.layers.MaxPool2D(),\n",
        "    tf.keras.layers.Dropout(0.25),\n",
        "    tf.keras.layers.Flatten(),\n",
        "    tf.keras.layers.Dense(128, activation='relu'),\n",
        "    tf.keras.layers.Dropout(0.5),\n",
        "    tf.keras.layers.Dense(num_classes, activation='softmax')\n",
        "])"
      ],
      "metadata": {
        "id": "tILjrHRFdb3x"
      },
      "execution_count": 4,
      "outputs": []
    },
    {
      "cell_type": "code",
      "source": [
        "# Random seed for reproducibility\n",
        "seed = 42\n",
        "tf.keras.utils.set_random_seed(seed)\n",
        "\n",
        "# Save the model at the end?\n",
        "save_model = False\n",
        "\n",
        "# Batch sizes for training and testing\n",
        "batch_size = 64\n",
        "test_batch_size = 14\n",
        "\n",
        "# Training epochs\n",
        "n_epochs = 10\n",
        "\n",
        "# Learning rate\n",
        "learning_rate = 1.0\n",
        "\n",
        "# Decay rate for adjusting the learning rate\n",
        "gamma = 0.7\n",
        "\n",
        "# Decay the learning rate at a base rate of gamma roughly every epoch, which\n",
        "# is len(x_train) steps\n",
        "scheduler = tf.keras.optimizers.schedules.ExponentialDecay(\n",
        "    learning_rate,\n",
        "    decay_steps=len(x_train),\n",
        "    decay_rate=gamma)\n",
        "\n",
        "# Define the optimizer to user for gradient descent\n",
        "optimizer = tf.keras.optimizers.Adadelta(scheduler)\n",
        "\n",
        "# Compile the model\n",
        "model.compile(optimizer=optimizer, loss='categorical_crossentropy', metrics=['acc'])\n",
        "\n",
        "# Display a model summary\n",
        "model.summary()\n",
        "\n",
        "# Train the model\n",
        "model.fit(x_train, y_train,\n",
        "          batch_size=batch_size,\n",
        "          epochs=n_epochs,\n",
        "          validation_data=(x_test, y_test),\n",
        "          validation_batch_size=test_batch_size)"
      ],
      "metadata": {
        "colab": {
          "base_uri": "https://localhost:8080/"
        },
        "id": "ERKGNdfxdb1s",
        "outputId": "de1ecc61-e247-4048-b480-19e4b7a22eee"
      },
      "execution_count": 6,
      "outputs": [
        {
          "output_type": "stream",
          "name": "stdout",
          "text": [
            "Epoch 1/10\n",
            "938/938 [==============================] - 22s 20ms/step - loss: 0.1852 - acc: 0.9435 - val_loss: 0.0499 - val_acc: 0.9830\n",
            "Epoch 2/10\n",
            "938/938 [==============================] - 12s 13ms/step - loss: 0.0720 - acc: 0.9793 - val_loss: 0.0387 - val_acc: 0.9871\n",
            "Epoch 3/10\n",
            "938/938 [==============================] - 13s 14ms/step - loss: 0.0546 - acc: 0.9835 - val_loss: 0.0371 - val_acc: 0.9882\n",
            "Epoch 4/10\n",
            "938/938 [==============================] - 15s 16ms/step - loss: 0.0456 - acc: 0.9865 - val_loss: 0.0303 - val_acc: 0.9905\n",
            "Epoch 5/10\n",
            "938/938 [==============================] - 20s 21ms/step - loss: 0.0394 - acc: 0.9877 - val_loss: 0.0328 - val_acc: 0.9898\n",
            "Epoch 6/10\n",
            "938/938 [==============================] - 13s 14ms/step - loss: 0.0354 - acc: 0.9899 - val_loss: 0.0282 - val_acc: 0.9916\n",
            "Epoch 7/10\n",
            "938/938 [==============================] - 13s 14ms/step - loss: 0.0331 - acc: 0.9900 - val_loss: 0.0280 - val_acc: 0.9911\n",
            "Epoch 8/10\n",
            "938/938 [==============================] - 13s 14ms/step - loss: 0.0324 - acc: 0.9902 - val_loss: 0.0303 - val_acc: 0.9911\n",
            "Epoch 9/10\n",
            "938/938 [==============================] - 13s 14ms/step - loss: 0.0295 - acc: 0.9914 - val_loss: 0.0299 - val_acc: 0.9914\n",
            "Epoch 10/10\n",
            "938/938 [==============================] - 13s 13ms/step - loss: 0.0303 - acc: 0.9913 - val_loss: 0.0310 - val_acc: 0.9905\n"
          ]
        },
        {
          "output_type": "execute_result",
          "data": {
            "text/plain": [
              "<keras.callbacks.History at 0x7efec1ac20d0>"
            ]
          },
          "metadata": {},
          "execution_count": 6
        }
      ]
    },
    {
      "cell_type": "code",
      "source": [
        "if save_model:\n",
        "    model.save_weights(\"mnist_cnn_tf.ckpt\")"
      ],
      "metadata": {
        "id": "PomeYxKcdbzo"
      },
      "execution_count": 7,
      "outputs": []
    }
  ]
}