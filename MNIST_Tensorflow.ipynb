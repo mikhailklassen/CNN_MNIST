{
  "nbformat": 4,
  "nbformat_minor": 0,
  "metadata": {
    "colab": {
      "name": "MNIST - Tensorflow.ipynb",
      "provenance": [],
      "authorship_tag": "ABX9TyOILfYw6UXSzhAdYkLRoPJg",
      "include_colab_link": true
    },
    "kernelspec": {
      "name": "python3",
      "display_name": "Python 3"
    },
    "language_info": {
      "name": "python"
    },
    "accelerator": "GPU"
  },
  "cells": [
    {
      "cell_type": "markdown",
      "metadata": {
        "id": "view-in-github",
        "colab_type": "text"
      },
      "source": [
        "<a href=\"https://colab.research.google.com/github/mikhailklassen/CNN_MNIST/blob/main/MNIST_Tensorflow.ipynb\" target=\"_parent\"><img src=\"https://colab.research.google.com/assets/colab-badge.svg\" alt=\"Open In Colab\"/></a>"
      ]
    },
    {
      "cell_type": "code",
      "execution_count": 2,
      "metadata": {
        "colab": {
          "base_uri": "https://localhost:8080/"
        },
        "id": "U0bxC_CUcGzk",
        "outputId": "d143fe3a-a989-4da5-cff4-42fa60ccd330"
      },
      "outputs": [
        {
          "output_type": "stream",
          "name": "stdout",
          "text": [
            "[PhysicalDevice(name='/physical_device:CPU:0', device_type='CPU'), PhysicalDevice(name='/physical_device:GPU:0', device_type='GPU')]\n"
          ]
        }
      ],
      "source": [
        "import tensorflow as tf\n",
        "import tensorflow_datasets as tfds\n",
        "import numpy as np\n",
        "\n",
        "# In Google Colab, can change runtime to GPU if desired. If a TensorFlow \n",
        "# operation has both CPU and GPU implementations, by default the GPU device \n",
        "# is prioritized when the operation is assigned.\n",
        "device = tf.config.get_visible_devices()\n",
        "print(device)"
      ]
    },
    {
      "cell_type": "code",
      "source": [
        "# Random seed for reproducibility\n",
        "seed = 42\n",
        "tf.keras.utils.set_random_seed(seed)\n",
        "\n",
        "# Save the model at the end?\n",
        "save_model = False\n",
        "\n",
        "# Batch sizes for training and testing\n",
        "batch_size = 64\n",
        "test_batch_size = 14\n",
        "\n",
        "# Training epochs\n",
        "n_epochs = 10\n",
        "\n",
        "# Learning rate\n",
        "learning_rate = 1.0\n",
        "\n",
        "# Decay rate for adjusting the learning rate\n",
        "gamma = 0.7\n",
        "\n",
        "# Number of target classes in the MNIST data\n",
        "num_classes = 10\n",
        "\n",
        "# Data input shape\n",
        "input_shape = (28, 28, 1)"
      ],
      "metadata": {
        "id": "sV3gUT4lK4uO"
      },
      "execution_count": 3,
      "outputs": []
    },
    {
      "cell_type": "code",
      "source": [
        "# Load the MNIST dataset\n",
        "mnist = tf.keras.datasets.mnist\n",
        "(x_train, y_train), (x_test, y_test) = mnist.load_data()\n",
        "\n",
        "# The scaled mean and standard deviation of the MNIST dataset (precalculated)\n",
        "data_mean = 0.1307\n",
        "data_std = 0.3081\n",
        "\n",
        "# Reshape the input data\n",
        "x_train = x_train.reshape(x_train.shape[0], \n",
        "                          x_train.shape[1], \n",
        "                          x_train.shape[2], 1)\n",
        "\n",
        "x_test = x_test.reshape(x_test.shape[0], \n",
        "                        x_test.shape[1], \n",
        "                        x_test.shape[2], 1)\n",
        "\n",
        "# Normalize the data\n",
        "x_train = (x_train/255.0 - data_mean) / data_std\n",
        "x_test = (x_test/255.0 - data_mean) / data_std\n",
        "\n",
        "# Convert labels to one-hot vectors\n",
        "y_train = tf.one_hot(y_train.astype(np.int32), depth=num_classes)\n",
        "y_test = tf.one_hot(y_test.astype(np.int32), depth=num_classes)"
      ],
      "metadata": {
        "id": "ki3C27nDdb53",
        "colab": {
          "base_uri": "https://localhost:8080/"
        },
        "outputId": "0b54a525-98f2-444b-9e7f-b6b3da22a157"
      },
      "execution_count": 4,
      "outputs": [
        {
          "output_type": "stream",
          "name": "stdout",
          "text": [
            "Downloading data from https://storage.googleapis.com/tensorflow/tf-keras-datasets/mnist.npz\n",
            "11493376/11490434 [==============================] - 0s 0us/step\n",
            "11501568/11490434 [==============================] - 0s 0us/step\n"
          ]
        }
      ]
    },
    {
      "cell_type": "code",
      "source": [
        "# Define the architecture of the neural network\n",
        "model = tf.keras.models.Sequential([\n",
        "    tf.keras.layers.Conv2D(32, (3,3), strides=(1,1),\n",
        "                                      padding='valid', \n",
        "                                      activation='relu',\n",
        "                                      input_shape=input_shape),\n",
        "    tf.keras.layers.Conv2D(64, (3,3), strides=(1,1),\n",
        "                                      padding='valid',\n",
        "                                      activation='relu'),\n",
        "    tf.keras.layers.MaxPool2D(),\n",
        "    tf.keras.layers.Dropout(0.25),\n",
        "    tf.keras.layers.Flatten(),\n",
        "    tf.keras.layers.Dense(128, activation='relu'),\n",
        "    tf.keras.layers.Dropout(0.5),\n",
        "    tf.keras.layers.Dense(num_classes, activation='softmax')\n",
        "])"
      ],
      "metadata": {
        "id": "tILjrHRFdb3x"
      },
      "execution_count": 5,
      "outputs": []
    },
    {
      "cell_type": "code",
      "source": [
        "# Decay the learning rate at a base rate of gamma roughly every epoch, which\n",
        "# is len(x_train) steps\n",
        "scheduler = tf.keras.optimizers.schedules.ExponentialDecay(\n",
        "    learning_rate,\n",
        "    decay_steps=len(x_train),\n",
        "    decay_rate=gamma)\n",
        "\n",
        "# Define the optimizer to user for gradient descent\n",
        "optimizer = tf.keras.optimizers.Adadelta(scheduler)\n",
        "\n",
        "# Compile the model\n",
        "model.compile(optimizer=optimizer, loss='categorical_crossentropy', metrics=['acc'])\n",
        "\n",
        "# Display a model summary\n",
        "model.summary()"
      ],
      "metadata": {
        "colab": {
          "base_uri": "https://localhost:8080/"
        },
        "id": "ERKGNdfxdb1s",
        "outputId": "ef8fbf8d-bca9-44d5-89c4-502e408b5b53"
      },
      "execution_count": 6,
      "outputs": [
        {
          "output_type": "stream",
          "name": "stdout",
          "text": [
            "Model: \"sequential\"\n",
            "_________________________________________________________________\n",
            " Layer (type)                Output Shape              Param #   \n",
            "=================================================================\n",
            " conv2d (Conv2D)             (None, 26, 26, 32)        320       \n",
            "                                                                 \n",
            " conv2d_1 (Conv2D)           (None, 24, 24, 64)        18496     \n",
            "                                                                 \n",
            " max_pooling2d (MaxPooling2D  (None, 12, 12, 64)       0         \n",
            " )                                                               \n",
            "                                                                 \n",
            " dropout (Dropout)           (None, 12, 12, 64)        0         \n",
            "                                                                 \n",
            " flatten (Flatten)           (None, 9216)              0         \n",
            "                                                                 \n",
            " dense (Dense)               (None, 128)               1179776   \n",
            "                                                                 \n",
            " dropout_1 (Dropout)         (None, 128)               0         \n",
            "                                                                 \n",
            " dense_1 (Dense)             (None, 10)                1290      \n",
            "                                                                 \n",
            "=================================================================\n",
            "Total params: 1,199,882\n",
            "Trainable params: 1,199,882\n",
            "Non-trainable params: 0\n",
            "_________________________________________________________________\n"
          ]
        }
      ]
    },
    {
      "cell_type": "code",
      "source": [
        "# Train the model\n",
        "model.fit(x_train, y_train,\n",
        "          batch_size=batch_size,\n",
        "          epochs=n_epochs,\n",
        "          validation_data=(x_test, y_test),\n",
        "          validation_batch_size=test_batch_size)"
      ],
      "metadata": {
        "id": "_PGJ8FXmMucW",
        "colab": {
          "base_uri": "https://localhost:8080/"
        },
        "outputId": "7702889e-720e-41d0-d7e4-d2fd5e36b59f"
      },
      "execution_count": 7,
      "outputs": [
        {
          "output_type": "stream",
          "name": "stdout",
          "text": [
            "Epoch 1/10\n",
            "938/938 [==============================] - 22s 14ms/step - loss: 0.1896 - acc: 0.9422 - val_loss: 0.0467 - val_acc: 0.9840\n",
            "Epoch 2/10\n",
            "938/938 [==============================] - 12s 13ms/step - loss: 0.0715 - acc: 0.9790 - val_loss: 0.0374 - val_acc: 0.9876\n",
            "Epoch 3/10\n",
            "938/938 [==============================] - 12s 13ms/step - loss: 0.0565 - acc: 0.9826 - val_loss: 0.0354 - val_acc: 0.9887\n",
            "Epoch 4/10\n",
            "938/938 [==============================] - 12s 13ms/step - loss: 0.0476 - acc: 0.9863 - val_loss: 0.0314 - val_acc: 0.9900\n",
            "Epoch 5/10\n",
            "938/938 [==============================] - 12s 13ms/step - loss: 0.0430 - acc: 0.9872 - val_loss: 0.0328 - val_acc: 0.9892\n",
            "Epoch 6/10\n",
            "938/938 [==============================] - 13s 13ms/step - loss: 0.0376 - acc: 0.9890 - val_loss: 0.0268 - val_acc: 0.9912\n",
            "Epoch 7/10\n",
            "938/938 [==============================] - 12s 12ms/step - loss: 0.0345 - acc: 0.9895 - val_loss: 0.0276 - val_acc: 0.9916\n",
            "Epoch 8/10\n",
            "938/938 [==============================] - 12s 13ms/step - loss: 0.0312 - acc: 0.9904 - val_loss: 0.0281 - val_acc: 0.9910\n",
            "Epoch 9/10\n",
            "938/938 [==============================] - 12s 13ms/step - loss: 0.0304 - acc: 0.9911 - val_loss: 0.0285 - val_acc: 0.9917\n",
            "Epoch 10/10\n",
            "938/938 [==============================] - 12s 13ms/step - loss: 0.0273 - acc: 0.9919 - val_loss: 0.0255 - val_acc: 0.9921\n"
          ]
        },
        {
          "output_type": "execute_result",
          "data": {
            "text/plain": [
              "<keras.callbacks.History at 0x7f85d8acf790>"
            ]
          },
          "metadata": {},
          "execution_count": 7
        }
      ]
    },
    {
      "cell_type": "code",
      "source": [
        "if save_model:\n",
        "    model.save_weights(\"mnist_cnn_tf.ckpt\")"
      ],
      "metadata": {
        "id": "PomeYxKcdbzo"
      },
      "execution_count": 8,
      "outputs": []
    }
  ]
}